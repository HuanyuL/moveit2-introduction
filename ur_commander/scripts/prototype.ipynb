{
 "cells": [
  {
   "cell_type": "code",
   "execution_count": null,
   "metadata": {},
   "outputs": [],
   "source": [
    "import rclpy\n",
    "from rclpy.callback_groups import ReentrantCallbackGroup\n",
    "from rclpy.node import Node\n",
    "\n",
    "from pymoveit2 import MoveIt2, MoveIt2State\n",
    "from pymoveit2.robots import ur\n",
    "\n",
    "from threading import Thread\n",
    "\n",
    "node = Node('moveit2_test')\n",
    "moveit2 = MoveIt2(node, ReentrantCallbackGroup())\n",
    "\n",
    "moveit2 = MoveIt2(\n",
    "        node=node,\n",
    "        joint_names=ur.joint_names(),\n",
    "        base_link_name=ur.base_link_name(),\n",
    "        end_effector_name=ur.end_effector_name(),\n",
    "        group_name=ur.MOVE_GROUP_ARM,\n",
    "        callback_group=callback_group,\n",
    "    )\n",
    "    moveit2.planner_id = node.get_parameter(\"planner_id\").get_parameter_value().string_value\n",
    "\n",
    "    # Spin the node in background thread(s) and wait a bit for initialization\n",
    "    executor = rclpy.executors.MultiThreadedExecutor(2)\n",
    "    executor.add_node(node)\n",
    "    executor_thread = Thread(target=executor.spin, daemon=True, args=())\n",
    "    executor_thread.start()\n",
    "    node.create_rate(1.0).sleep()"
   ]
  }
 ],
 "metadata": {
  "language_info": {
   "name": "python"
  }
 },
 "nbformat": 4,
 "nbformat_minor": 2
}
