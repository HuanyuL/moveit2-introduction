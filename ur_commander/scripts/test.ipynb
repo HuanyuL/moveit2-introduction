{
 "cells": [
  {
   "cell_type": "code",
   "execution_count": null,
   "metadata": {},
   "outputs": [],
   "source": [
    "from threading import Thread\n",
    "from math import pi\n",
    "\n",
    "import rclpy\n",
    "from rclpy.callback_groups import ReentrantCallbackGroup\n",
    "from rclpy.node import Node\n",
    "\n",
    "from pymoveit2 import MoveIt2, MoveIt2State\n",
    "from pymoveit2.robots import ur\n",
    "\n",
    "from geometry_msgs.msg import Pose, Quaternion, Point\n",
    "import rclpy.wait_for_message\n",
    "from ur_msgs.srv import SetIO\n",
    "from ur_commander.srv import VisualizePoses\n",
    "\n",
    "\n",
    "rclpy.init()\n",
    "\n",
    "# Create node for this example\n",
    "node = Node(\"TEST\")\n",
    "callback_group = ReentrantCallbackGroup()\n",
    "\n",
    "\n",
    "def display_poses(poses: list[Pose], frame_id: str = \"base_link\") -> None:\n",
    "    client = node.create_client(VisualizePoses, \"/visualize_poses\")\n",
    "    while not client.wait_for_service(timeout_sec=1.0):\n",
    "        node.get_logger().info(\"service not available, waiting again...\")\n",
    "    client.call(VisualizePoses.Request(poses=poses, frame_id=frame_id))\n",
    "\n",
    "\n",
    "moveit2 = MoveIt2(\n",
    "    node=node,\n",
    "    joint_names=ur.joint_names(),\n",
    "    base_link_name=ur.base_link_name(),\n",
    "    end_effector_name=ur.end_effector_name(),\n",
    "    group_name=ur.MOVE_GROUP_ARM,\n",
    "    callback_group=callback_group,\n",
    ")\n",
    "\n",
    "# Spin the node in background thread(s) and wait a bit for initialization\n",
    "executor = rclpy.executors.MultiThreadedExecutor(2)\n",
    "executor.add_node(node)\n",
    "executor_thread = Thread(target=executor.spin, daemon=True, args=())\n",
    "executor_thread.start()\n",
    "node.create_rate(1.0).sleep()\n",
    "\n",
    "# Scale down velocity and acceleration of joints (percentage of maximum)\n",
    "moveit2.max_velocity = 0.1\n",
    "moveit2.max_acceleration = 0.1\n",
    "synchronous = True\n",
    "cancel_after_secs = 0.0\n",
    "cartesian = False\n",
    "cartesian_max_step = 0.0025\n",
    "cartesian_fraction_threshold = 0.0\n",
    "cartesian_jump_threshold = 0.0\n",
    "cartesian_avoid_collisions = False\n",
    "moveit2.planner_id = \"PTP\""
   ]
  },
  {
   "cell_type": "markdown",
   "metadata": {},
   "source": [
    "**Define Joint Position**   \n",
    "\n",
    "Forward kinematics, a trajectory will be planned"
   ]
  },
  {
   "cell_type": "code",
   "execution_count": null,
   "metadata": {},
   "outputs": [],
   "source": [
    "home_position = [0.0, -pi / 2, pi / 2, 0.0, 0.0, 0.0]\n",
    "node.get_logger().info(\"Moving to home position\")\n",
    "traj = moveit2.move_to_configuration(home_position)\n",
    "if traj is None:\n",
    "    node.get_logger().error(\"Failed to move to home position\")"
   ]
  },
  {
   "cell_type": "code",
   "execution_count": null,
   "metadata": {},
   "outputs": [],
   "source": [
    "moveit2.execute(traj)\n",
    "success = moveit2.wait_until_executed()\n",
    "if not success:\n",
    "    node.get_logger().error(\"Failed to execute trajectory\")"
   ]
  },
  {
   "cell_type": "markdown",
   "metadata": {},
   "source": [
    "**Define a Target Pose**    \n",
    "\n",
    "Display the pose"
   ]
  },
  {
   "cell_type": "code",
   "execution_count": null,
   "metadata": {},
   "outputs": [],
   "source": [
    "target = Pose(\n",
    "    position=Point(x=0.6, y=0.0, z=0.5),\n",
    "    orientation=Quaternion(x=0.0, y=0.7071067811865475, z=0.0, w=0.7071067811865476),\n",
    ")\n",
    "\n",
    "display_poses([target])"
   ]
  },
  {
   "cell_type": "markdown",
   "metadata": {},
   "source": [
    "Plan a trajectory"
   ]
  },
  {
   "cell_type": "code",
   "execution_count": null,
   "metadata": {},
   "outputs": [],
   "source": [
    "position = [target.position.x, target.position.y, target.position.z]\n",
    "quat_xyzw = [target.orientation.x, target.orientation.y, target.orientation.z, target.orientation.w]\n",
    "\n",
    "\n",
    "node.get_logger().info(f\"Moving to {{position: {list(position)}, quat_xyzw: {list(quat_xyzw)}}}\")\n",
    "traj = moveit2.move_to_pose(\n",
    "    position=position,\n",
    "    quat_xyzw=quat_xyzw,\n",
    "    cartesian=cartesian,\n",
    "    cartesian_max_step=cartesian_max_step,\n",
    "    cartesian_fraction_threshold=cartesian_fraction_threshold,\n",
    ")"
   ]
  },
  {
   "cell_type": "markdown",
   "metadata": {},
   "source": [
    "Execute the trajectory"
   ]
  },
  {
   "cell_type": "code",
   "execution_count": null,
   "metadata": {},
   "outputs": [],
   "source": [
    "moveit2.execute(traj)\n",
    "success = moveit2.wait_until_executed()\n",
    "if not success:\n",
    "    node.get_logger().error(\"Failed to execute trajectory\")"
   ]
  },
  {
   "cell_type": "code",
   "execution_count": null,
   "metadata": {},
   "outputs": [],
   "source": [
    "target0 = Pose(\n",
    "    position=Point(x=0.6, y=-0.3, z=0.5),\n",
    "    orientation=Quaternion(x=0.0, y=0.7071067811865475, z=0.0, w=0.7071067811865476),\n",
    ")\n",
    "target1 = Pose(\n",
    "    position=Point(x=0.6, y=0.3, z=0.5),\n",
    "    orientation=Quaternion(x=1.0, y=1.0, z=1.0, w=1.0),\n",
    ")\n",
    "\n",
    "display_poses([target0, target1])"
   ]
  },
  {
   "cell_type": "code",
   "execution_count": 47,
   "metadata": {},
   "outputs": [
    {
     "name": "stderr",
     "output_type": "stream",
     "text": [
      "[INFO] [1731674328.058048389] [TEST]: Moving to target 0 {position: [0.6, -0.3, 0.5], quat_xyzw: [0.0, 0.7071067811865475, 0.0, 0.7071067811865476]}\n",
      "[ERROR] [1731674328.183175534] [TEST]: Move to target 0\n",
      "[INFO] [1731674336.160980658] [TEST]: Moving to target 1 {position: [0.6, 0.3, 0.5], quat_xyzw: [1.0, 1.0, 1.0, 1.0]}\n",
      "[ERROR] [1731674336.275373622] [TEST]: Move to target 1\n"
     ]
    }
   ],
   "source": [
    "targets = [target0, target1]\n",
    "for i, target_pose in enumerate(targets):\n",
    "\n",
    "    position = [target_pose.position.x, target_pose.position.y, target_pose.position.z]\n",
    "    quat_xyzw = [\n",
    "        target_pose.orientation.x,\n",
    "        target_pose.orientation.y,\n",
    "        target_pose.orientation.z,\n",
    "        target_pose.orientation.w,\n",
    "    ]\n",
    "\n",
    "    node.get_logger().info(f\"Moving to target {i} {{position: {list(position)}, quat_xyzw: {list(quat_xyzw)}}}\")\n",
    "    traj = moveit2.move_to_pose(\n",
    "        position=position,\n",
    "        quat_xyzw=quat_xyzw,\n",
    "        cartesian=cartesian,\n",
    "        cartesian_max_step=cartesian_max_step,\n",
    "        cartesian_fraction_threshold=cartesian_fraction_threshold,\n",
    "    )\n",
    "    if traj is not None:\n",
    "        node.get_logger().error(f\"Move to target {i}\")\n",
    "        moveit2.execute(traj)\n",
    "        success = moveit2.wait_until_executed()"
   ]
  }
 ],
 "metadata": {
  "kernelspec": {
   "display_name": "Python 3",
   "language": "python",
   "name": "python3"
  },
  "language_info": {
   "codemirror_mode": {
    "name": "ipython",
    "version": 3
   },
   "file_extension": ".py",
   "mimetype": "text/x-python",
   "name": "python",
   "nbconvert_exporter": "python",
   "pygments_lexer": "ipython3",
   "version": "3.10.12"
  }
 },
 "nbformat": 4,
 "nbformat_minor": 2
}
