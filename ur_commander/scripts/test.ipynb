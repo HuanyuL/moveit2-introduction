{
 "cells": [
  {
   "cell_type": "code",
   "execution_count": 1,
   "metadata": {},
   "outputs": [],
   "source": [
    "from threading import Thread\n",
    "from math import pi\n",
    "\n",
    "import rclpy\n",
    "from rclpy.callback_groups import ReentrantCallbackGroup\n",
    "from rclpy.node import Node\n",
    "\n",
    "from pymoveit2 import MoveIt2\n",
    "from pymoveit2.robots import ur\n",
    "\n",
    "from geometry_msgs.msg import Pose, Quaternion, Point\n",
    "import rclpy.wait_for_message\n",
    "from ur_msgs.srv import SetIO\n",
    "from ur_commander.srv import VisualizePoses\n",
    "\n",
    "rclpy.init()\n",
    "\n",
    "# Create node for this example\n",
    "node = Node(\"notebook_example\")\n",
    "callback_group = ReentrantCallbackGroup()\n",
    "\n",
    "\n",
    "def display_poses(poses: list[Pose], frame_id: str = \"base_link\") -> None:\n",
    "    client = node.create_client(VisualizePoses, \"/visualize_poses\")\n",
    "    while not client.wait_for_service(timeout_sec=1.0):\n",
    "        node.get_logger().info(\"service not available, waiting again...\")\n",
    "    client.call(VisualizePoses.Request(poses=poses, frame_id=frame_id))\n",
    "\n",
    "\n",
    "moveit2 = MoveIt2(\n",
    "    node=node,\n",
    "    joint_names=ur.joint_names(),\n",
    "    base_link_name=ur.base_link_name(),\n",
    "    end_effector_name=ur.end_effector_name(),\n",
    "    group_name=ur.MOVE_GROUP_ARM,\n",
    "    callback_group=callback_group,\n",
    ")\n",
    "\n",
    "# Spin the node in background thread(s) and wait a bit for initialization\n",
    "executor = rclpy.executors.MultiThreadedExecutor(2)\n",
    "executor.add_node(node)\n",
    "executor_thread = Thread(target=executor.spin, daemon=True, args=())\n",
    "executor_thread.start()\n",
    "node.create_rate(1.0).sleep()\n",
    "\n",
    "# Scale down velocity and acceleration of joints (percentage of maximum)\n",
    "moveit2.max_velocity = 0.1\n",
    "moveit2.max_acceleration = 0.1\n",
    "synchronous = True\n",
    "cancel_after_secs = 0.0\n",
    "cartesian = False\n",
    "cartesian_max_step = 0.0025\n",
    "cartesian_fraction_threshold = 0.0\n",
    "cartesian_jump_threshold = 0.0\n",
    "cartesian_avoid_collisions = False\n",
    "moveit2.planner_id = \"PTP\"\n",
    "\n",
    "# Add collision objects\n",
    "moveit2.add_collision_box(\n",
    "    id=\"table\",\n",
    "    size=[2.0, 1.0, 0.05],\n",
    "    position=[0.0, 0.0, -0.025],\n",
    "    quat_xyzw=[0.0, 0.0, 0.0, 0.0],\n",
    ")"
   ]
  },
  {
   "cell_type": "markdown",
   "metadata": {},
   "source": [
    "**Define Joint Position**   \n",
    "\n",
    "Forward kinematics, a trajectory will be planned"
   ]
  },
  {
   "cell_type": "code",
   "execution_count": 2,
   "metadata": {},
   "outputs": [
    {
     "name": "stderr",
     "output_type": "stream",
     "text": [
      "[INFO] [1732789810.603101304] [notebook_example]: Moving to home position\n"
     ]
    }
   ],
   "source": [
    "home_position = [0.0, -pi / 2, pi / 2, 0.0, 0.0, 0.0]\n",
    "node.get_logger().info(\"Moving to home position\")\n",
    "traj = moveit2.move_to_configuration(home_position)\n",
    "if traj is None:\n",
    "    node.get_logger().error(\"Failed to move to home position\")"
   ]
  },
  {
   "cell_type": "code",
   "execution_count": 3,
   "metadata": {},
   "outputs": [
    {
     "name": "stderr",
     "output_type": "stream",
     "text": [
      "[INFO] [1732789821.803532923] [notebook_example]: Moved to home position\n"
     ]
    }
   ],
   "source": [
    "moveit2.execute(traj)\n",
    "success = moveit2.wait_until_executed()\n",
    "if not success:\n",
    "    node.get_logger().error(\"Failed to execute trajectory\")\n",
    "else:\n",
    "    node.get_logger().info(\"Moved to home position\")"
   ]
  },
  {
   "cell_type": "markdown",
   "metadata": {},
   "source": [
    "**Define a Target Pose**    \n",
    "\n",
    "Display the pose"
   ]
  },
  {
   "cell_type": "code",
   "execution_count": 4,
   "metadata": {},
   "outputs": [],
   "source": [
    "target = Pose(\n",
    "    position=Point(x=0.6, y=0.0, z=0.5),\n",
    "    orientation=Quaternion(x=0.0, y=0.7071067811865475, z=0.0, w=0.7071067811865476),\n",
    ")\n",
    "\n",
    "display_poses([target])"
   ]
  },
  {
   "cell_type": "markdown",
   "metadata": {},
   "source": [
    "Plan a trajectory"
   ]
  },
  {
   "cell_type": "code",
   "execution_count": 5,
   "metadata": {},
   "outputs": [
    {
     "name": "stderr",
     "output_type": "stream",
     "text": [
      "[INFO] [1732786259.874722188] [notebook_example]: Moving to {position: [0.6, 0.0, 0.5], quat_xyzw: [0.0, 0.7071067811865475, 0.0, 0.7071067811865476]}\n"
     ]
    }
   ],
   "source": [
    "position = [target.position.x, target.position.y, target.position.z]\n",
    "quat_xyzw = [target.orientation.x, target.orientation.y, target.orientation.z, target.orientation.w]\n",
    "\n",
    "\n",
    "node.get_logger().info(f\"Moving to {{position: {list(position)}, quat_xyzw: {list(quat_xyzw)}}}\")\n",
    "traj = moveit2.move_to_pose(\n",
    "    position=position,\n",
    "    quat_xyzw=quat_xyzw,\n",
    "    cartesian=False,\n",
    "    cartesian_max_step=cartesian_max_step,\n",
    "    cartesian_fraction_threshold=cartesian_fraction_threshold,\n",
    ")"
   ]
  },
  {
   "cell_type": "markdown",
   "metadata": {},
   "source": [
    "Execute the trajectory"
   ]
  },
  {
   "cell_type": "code",
   "execution_count": 6,
   "metadata": {},
   "outputs": [],
   "source": [
    "moveit2.execute(traj)\n",
    "success = moveit2.wait_until_executed()\n",
    "if not success:\n",
    "    node.get_logger().error(\"Failed to execute trajectory\")"
   ]
  },
  {
   "cell_type": "code",
   "execution_count": 4,
   "metadata": {},
   "outputs": [],
   "source": [
    "target0 = Pose(\n",
    "    position=Point(x=0.6, y=-0.3, z=0.5),\n",
    "    orientation=Quaternion(x=0.0, y=0.7071067811865475, z=0.0, w=0.7071067811865476),\n",
    ")\n",
    "target1 = Pose(\n",
    "    position=Point(x=0.6, y=0.3, z=0.5),\n",
    "    orientation=Quaternion(x=0.5, y=0.5, z=0.5, w=0.5),\n",
    ")\n",
    "\n",
    "display_poses([target0, target1])"
   ]
  },
  {
   "cell_type": "code",
   "execution_count": 12,
   "metadata": {},
   "outputs": [
    {
     "name": "stderr",
     "output_type": "stream",
     "text": [
      "[INFO] [1732786447.653508915] [notebook_example]: Moving to target 0 {position: [0.6, -0.3, 0.5], quat_xyzw: [0.0, 0.7071067811865475, 0.0, 0.7071067811865476]}\n",
      "[INFO] [1732786447.787047572] [notebook_example]: Move to target 0\n",
      "[INFO] [1732786455.779066663] [notebook_example]: Moving to target 1 {position: [0.6, 0.3, 0.5], quat_xyzw: [0.5, 0.5, 0.5, 0.5]}\n",
      "[INFO] [1732786455.887833533] [notebook_example]: Move to target 1\n"
     ]
    }
   ],
   "source": [
    "targets = [target0, target1]\n",
    "for i, target_pose in enumerate(targets):\n",
    "\n",
    "    position = [target_pose.position.x, target_pose.position.y, target_pose.position.z]\n",
    "    quat_xyzw = [\n",
    "        target_pose.orientation.x,\n",
    "        target_pose.orientation.y,\n",
    "        target_pose.orientation.z,\n",
    "        target_pose.orientation.w,\n",
    "    ]\n",
    "\n",
    "    node.get_logger().info(f\"Moving to target {i} {{position: {list(position)}, quat_xyzw: {list(quat_xyzw)}}}\")\n",
    "    traj = moveit2.move_to_pose(\n",
    "        position=position,\n",
    "        quat_xyzw=quat_xyzw,\n",
    "        cartesian=cartesian,\n",
    "        cartesian_max_step=cartesian_max_step,\n",
    "        cartesian_fraction_threshold=cartesian_fraction_threshold,\n",
    "    )\n",
    "    if traj is not None:\n",
    "        node.get_logger().info(f\"Move to target {i}\")\n",
    "        moveit2.execute(traj)\n",
    "        success = moveit2.wait_until_executed()"
   ]
  },
  {
   "cell_type": "code",
   "execution_count": 5,
   "metadata": {},
   "outputs": [
    {
     "name": "stderr",
     "output_type": "stream",
     "text": [
      "[INFO] [1732789833.968677497] [notebook_example]: number of items in sequence: 2\n",
      "[INFO] [1732789833.981623608] [notebook_example]: item 0 blend radius: 0.0\n",
      "[INFO] [1732789833.983449693] [notebook_example]: item 0 request: moveit_msgs.msg.MotionPlanRequest(workspace_parameters=moveit_msgs.msg.WorkspaceParameters(header=std_msgs.msg.Header(stamp=builtin_interfaces.msg.Time(sec=1732789833, nanosec=943327543), frame_id='base_link'), min_corner=geometry_msgs.msg.Vector3(x=-1.0, y=-1.0, z=-1.0), max_corner=geometry_msgs.msg.Vector3(x=1.0, y=1.0, z=1.0)), start_state=moveit_msgs.msg.RobotState(joint_state=sensor_msgs.msg.JointState(header=std_msgs.msg.Header(stamp=builtin_interfaces.msg.Time(sec=1732789833, nanosec=935570384), frame_id=''), name=['shoulder_lift_joint', 'elbow_joint', 'wrist_1_joint', 'wrist_2_joint', 'wrist_3_joint', 'shoulder_pan_joint'], position=[-1.5707963267948966, 1.5707963267948966, -7.632783294297951e-17, 0.0, 0.0, 0.0], velocity=[0.0, 0.0, 0.0, 0.0, 0.0, 0.0], effort=[0.0, 0.0, 0.0, 0.0, 0.0, 0.0]), multi_dof_joint_state=sensor_msgs.msg.MultiDOFJointState(header=std_msgs.msg.Header(stamp=builtin_interfaces.msg.Time(sec=0, nanosec=0), frame_id=''), joint_names=[], transforms=[], twist=[], wrench=[]), attached_collision_objects=[], is_diff=False), goal_constraints=[moveit_msgs.msg.Constraints(name='', joint_constraints=[], position_constraints=[moveit_msgs.msg.PositionConstraint(header=std_msgs.msg.Header(stamp=builtin_interfaces.msg.Time(sec=1732789833, nanosec=943327543), frame_id='base_link'), link_name='tool0', target_point_offset=geometry_msgs.msg.Vector3(x=0.0, y=0.0, z=0.0), constraint_region=moveit_msgs.msg.BoundingVolume(primitives=[shape_msgs.msg.SolidPrimitive(type=2, dimensions=[0.001], polygon=geometry_msgs.msg.Polygon(points=[]))], primitive_poses=[geometry_msgs.msg.Pose(position=geometry_msgs.msg.Point(x=0.6, y=-0.3, z=0.5), orientation=geometry_msgs.msg.Quaternion(x=0.0, y=0.0, z=0.0, w=1.0))], meshes=[], mesh_poses=[]), weight=1.0), moveit_msgs.msg.PositionConstraint(header=std_msgs.msg.Header(stamp=builtin_interfaces.msg.Time(sec=1732789833, nanosec=943327543), frame_id='base_link'), link_name='tool0', target_point_offset=geometry_msgs.msg.Vector3(x=0.0, y=0.0, z=0.0), constraint_region=moveit_msgs.msg.BoundingVolume(primitives=[shape_msgs.msg.SolidPrimitive(type=2, dimensions=[0.001], polygon=geometry_msgs.msg.Polygon(points=[]))], primitive_poses=[geometry_msgs.msg.Pose(position=geometry_msgs.msg.Point(x=0.6, y=0.3, z=0.5), orientation=geometry_msgs.msg.Quaternion(x=0.0, y=0.0, z=0.0, w=1.0))], meshes=[], mesh_poses=[]), weight=1.0)], orientation_constraints=[moveit_msgs.msg.OrientationConstraint(header=std_msgs.msg.Header(stamp=builtin_interfaces.msg.Time(sec=1732789833, nanosec=943327543), frame_id='base_link'), orientation=geometry_msgs.msg.Quaternion(x=0.0, y=0.7071067811865475, z=0.0, w=0.7071067811865476), link_name='tool0', absolute_x_axis_tolerance=0.001, absolute_y_axis_tolerance=0.001, absolute_z_axis_tolerance=0.001, parameterization=0, weight=1.0), moveit_msgs.msg.OrientationConstraint(header=std_msgs.msg.Header(stamp=builtin_interfaces.msg.Time(sec=1732789833, nanosec=943327543), frame_id='base_link'), orientation=geometry_msgs.msg.Quaternion(x=0.5, y=0.5, z=0.5, w=0.5), link_name='tool0', absolute_x_axis_tolerance=0.001, absolute_y_axis_tolerance=0.001, absolute_z_axis_tolerance=0.001, parameterization=0, weight=1.0)], visibility_constraints=[])], path_constraints=moveit_msgs.msg.Constraints(name='', joint_constraints=[], position_constraints=[], orientation_constraints=[], visibility_constraints=[]), trajectory_constraints=moveit_msgs.msg.TrajectoryConstraints(constraints=[]), reference_trajectories=[], pipeline_id='', planner_id='PTP', group_name='ur_manipulator', num_planning_attempts=5, allowed_planning_time=2.0, max_velocity_scaling_factor=0.1, max_acceleration_scaling_factor=0.1, cartesian_speed_end_effector_link='tool0', max_cartesian_speed=0.0)\n",
      "[INFO] [1732789833.987475168] [notebook_example]: item 1 blend radius: 0.0\n",
      "[INFO] [1732789834.005437773] [notebook_example]: item 1 request: moveit_msgs.msg.MotionPlanRequest(workspace_parameters=moveit_msgs.msg.WorkspaceParameters(header=std_msgs.msg.Header(stamp=builtin_interfaces.msg.Time(sec=1732789833, nanosec=943327543), frame_id='base_link'), min_corner=geometry_msgs.msg.Vector3(x=-1.0, y=-1.0, z=-1.0), max_corner=geometry_msgs.msg.Vector3(x=1.0, y=1.0, z=1.0)), start_state=moveit_msgs.msg.RobotState(joint_state=sensor_msgs.msg.JointState(header=std_msgs.msg.Header(stamp=builtin_interfaces.msg.Time(sec=1732789833, nanosec=935570384), frame_id=''), name=['shoulder_lift_joint', 'elbow_joint', 'wrist_1_joint', 'wrist_2_joint', 'wrist_3_joint', 'shoulder_pan_joint'], position=[-1.5707963267948966, 1.5707963267948966, -7.632783294297951e-17, 0.0, 0.0, 0.0], velocity=[0.0, 0.0, 0.0, 0.0, 0.0, 0.0], effort=[0.0, 0.0, 0.0, 0.0, 0.0, 0.0]), multi_dof_joint_state=sensor_msgs.msg.MultiDOFJointState(header=std_msgs.msg.Header(stamp=builtin_interfaces.msg.Time(sec=0, nanosec=0), frame_id=''), joint_names=[], transforms=[], twist=[], wrench=[]), attached_collision_objects=[], is_diff=False), goal_constraints=[moveit_msgs.msg.Constraints(name='', joint_constraints=[], position_constraints=[moveit_msgs.msg.PositionConstraint(header=std_msgs.msg.Header(stamp=builtin_interfaces.msg.Time(sec=1732789833, nanosec=943327543), frame_id='base_link'), link_name='tool0', target_point_offset=geometry_msgs.msg.Vector3(x=0.0, y=0.0, z=0.0), constraint_region=moveit_msgs.msg.BoundingVolume(primitives=[shape_msgs.msg.SolidPrimitive(type=2, dimensions=[0.001], polygon=geometry_msgs.msg.Polygon(points=[]))], primitive_poses=[geometry_msgs.msg.Pose(position=geometry_msgs.msg.Point(x=0.6, y=-0.3, z=0.5), orientation=geometry_msgs.msg.Quaternion(x=0.0, y=0.0, z=0.0, w=1.0))], meshes=[], mesh_poses=[]), weight=1.0), moveit_msgs.msg.PositionConstraint(header=std_msgs.msg.Header(stamp=builtin_interfaces.msg.Time(sec=1732789833, nanosec=943327543), frame_id='base_link'), link_name='tool0', target_point_offset=geometry_msgs.msg.Vector3(x=0.0, y=0.0, z=0.0), constraint_region=moveit_msgs.msg.BoundingVolume(primitives=[shape_msgs.msg.SolidPrimitive(type=2, dimensions=[0.001], polygon=geometry_msgs.msg.Polygon(points=[]))], primitive_poses=[geometry_msgs.msg.Pose(position=geometry_msgs.msg.Point(x=0.6, y=0.3, z=0.5), orientation=geometry_msgs.msg.Quaternion(x=0.0, y=0.0, z=0.0, w=1.0))], meshes=[], mesh_poses=[]), weight=1.0)], orientation_constraints=[moveit_msgs.msg.OrientationConstraint(header=std_msgs.msg.Header(stamp=builtin_interfaces.msg.Time(sec=1732789833, nanosec=943327543), frame_id='base_link'), orientation=geometry_msgs.msg.Quaternion(x=0.0, y=0.7071067811865475, z=0.0, w=0.7071067811865476), link_name='tool0', absolute_x_axis_tolerance=0.001, absolute_y_axis_tolerance=0.001, absolute_z_axis_tolerance=0.001, parameterization=0, weight=1.0), moveit_msgs.msg.OrientationConstraint(header=std_msgs.msg.Header(stamp=builtin_interfaces.msg.Time(sec=1732789833, nanosec=943327543), frame_id='base_link'), orientation=geometry_msgs.msg.Quaternion(x=0.5, y=0.5, z=0.5, w=0.5), link_name='tool0', absolute_x_axis_tolerance=0.001, absolute_y_axis_tolerance=0.001, absolute_z_axis_tolerance=0.001, parameterization=0, weight=1.0)], visibility_constraints=[])], path_constraints=moveit_msgs.msg.Constraints(name='', joint_constraints=[], position_constraints=[], orientation_constraints=[], visibility_constraints=[]), trajectory_constraints=moveit_msgs.msg.TrajectoryConstraints(constraints=[]), reference_trajectories=[], pipeline_id='', planner_id='PTP', group_name='ur_manipulator', num_planning_attempts=5, allowed_planning_time=2.0, max_velocity_scaling_factor=0.1, max_acceleration_scaling_factor=0.1, cartesian_speed_end_effector_link='tool0', max_cartesian_speed=0.0)\n"
     ]
    },
    {
     "ename": "KeyboardInterrupt",
     "evalue": "",
     "output_type": "error",
     "traceback": [
      "\u001b[0;31m---------------------------------------------------------------------------\u001b[0m",
      "\u001b[0;31mKeyboardInterrupt\u001b[0m                         Traceback (most recent call last)",
      "Cell \u001b[0;32mIn[5], line 2\u001b[0m\n\u001b[1;32m      1\u001b[0m targets \u001b[38;5;241m=\u001b[39m [target0, target1]\n\u001b[0;32m----> 2\u001b[0m traj \u001b[38;5;241m=\u001b[39m \u001b[43mmoveit2\u001b[49m\u001b[38;5;241;43m.\u001b[39;49m\u001b[43mplan_sequence\u001b[49m\u001b[43m(\u001b[49m\u001b[43mtargets\u001b[49m\u001b[43m,\u001b[49m\u001b[43m \u001b[49m\u001b[43mblends\u001b[49m\u001b[38;5;241;43m=\u001b[39;49m\u001b[43m[\u001b[49m\u001b[38;5;241;43m0.1\u001b[39;49m\u001b[43m,\u001b[49m\u001b[43m \u001b[49m\u001b[38;5;241;43m0.0\u001b[39;49m\u001b[43m]\u001b[49m\u001b[43m)\u001b[49m\n\u001b[1;32m      3\u001b[0m \u001b[38;5;66;03m# traj = moveit2.get_trajectory_from_sequence(result)\u001b[39;00m\n\u001b[1;32m      4\u001b[0m \n\u001b[1;32m      5\u001b[0m \u001b[38;5;66;03m# if traj is not None:\u001b[39;00m\n\u001b[1;32m      6\u001b[0m \u001b[38;5;66;03m#     moveit2.execute(traj)\u001b[39;00m\n\u001b[1;32m      7\u001b[0m \u001b[38;5;66;03m#     success = moveit2.wait_until_executed()\u001b[39;00m\n\u001b[1;32m      8\u001b[0m \u001b[38;5;28;01mif\u001b[39;00m traj \u001b[38;5;129;01mis\u001b[39;00m \u001b[38;5;129;01mnot\u001b[39;00m \u001b[38;5;28;01mNone\u001b[39;00m:\n",
      "File \u001b[0;32m/dev_ws/install/local/lib/python3.10/dist-packages/pymoveit2/moveit2.py:560\u001b[0m, in \u001b[0;36mMoveIt2.plan_sequence\u001b[0;34m(self, poses, frame_id, target_link, tolerance_position, tolerance_orientation, weight_position, weight_orientation, blends)\u001b[0m\n\u001b[1;32m    558\u001b[0m rate \u001b[38;5;241m=\u001b[39m \u001b[38;5;28mself\u001b[39m\u001b[38;5;241m.\u001b[39m_node\u001b[38;5;241m.\u001b[39mcreate_rate(\u001b[38;5;241m10\u001b[39m)\n\u001b[1;32m    559\u001b[0m \u001b[38;5;28;01mwhile\u001b[39;00m \u001b[38;5;129;01mnot\u001b[39;00m future\u001b[38;5;241m.\u001b[39mdone():\n\u001b[0;32m--> 560\u001b[0m     \u001b[43mrate\u001b[49m\u001b[38;5;241;43m.\u001b[39;49m\u001b[43msleep\u001b[49m\u001b[43m(\u001b[49m\u001b[43m)\u001b[49m\n\u001b[1;32m    562\u001b[0m \u001b[38;5;28;01mreturn\u001b[39;00m \u001b[38;5;28mself\u001b[39m\u001b[38;5;241m.\u001b[39mget_trajectory_from_sequence(future)\n",
      "File \u001b[0;32m/opt/ros/humble/local/lib/python3.10/dist-packages/rclpy/timer.py:143\u001b[0m, in \u001b[0;36mRate.sleep\u001b[0;34m(self)\u001b[0m\n\u001b[1;32m    141\u001b[0m \u001b[38;5;28mself\u001b[39m\u001b[38;5;241m.\u001b[39m_presleep()\n\u001b[1;32m    142\u001b[0m \u001b[38;5;28;01mtry\u001b[39;00m:\n\u001b[0;32m--> 143\u001b[0m     \u001b[38;5;28;43mself\u001b[39;49m\u001b[38;5;241;43m.\u001b[39;49m\u001b[43m_event\u001b[49m\u001b[38;5;241;43m.\u001b[39;49m\u001b[43mwait\u001b[49m\u001b[43m(\u001b[49m\u001b[43m)\u001b[49m\n\u001b[1;32m    144\u001b[0m \u001b[38;5;28;01mfinally\u001b[39;00m:\n\u001b[1;32m    145\u001b[0m     \u001b[38;5;28mself\u001b[39m\u001b[38;5;241m.\u001b[39m_postsleep()\n",
      "File \u001b[0;32m/usr/lib/python3.10/threading.py:607\u001b[0m, in \u001b[0;36mEvent.wait\u001b[0;34m(self, timeout)\u001b[0m\n\u001b[1;32m    605\u001b[0m signaled \u001b[38;5;241m=\u001b[39m \u001b[38;5;28mself\u001b[39m\u001b[38;5;241m.\u001b[39m_flag\n\u001b[1;32m    606\u001b[0m \u001b[38;5;28;01mif\u001b[39;00m \u001b[38;5;129;01mnot\u001b[39;00m signaled:\n\u001b[0;32m--> 607\u001b[0m     signaled \u001b[38;5;241m=\u001b[39m \u001b[38;5;28;43mself\u001b[39;49m\u001b[38;5;241;43m.\u001b[39;49m\u001b[43m_cond\u001b[49m\u001b[38;5;241;43m.\u001b[39;49m\u001b[43mwait\u001b[49m\u001b[43m(\u001b[49m\u001b[43mtimeout\u001b[49m\u001b[43m)\u001b[49m\n\u001b[1;32m    608\u001b[0m \u001b[38;5;28;01mreturn\u001b[39;00m signaled\n",
      "File \u001b[0;32m/usr/lib/python3.10/threading.py:320\u001b[0m, in \u001b[0;36mCondition.wait\u001b[0;34m(self, timeout)\u001b[0m\n\u001b[1;32m    318\u001b[0m \u001b[38;5;28;01mtry\u001b[39;00m:    \u001b[38;5;66;03m# restore state no matter what (e.g., KeyboardInterrupt)\u001b[39;00m\n\u001b[1;32m    319\u001b[0m     \u001b[38;5;28;01mif\u001b[39;00m timeout \u001b[38;5;129;01mis\u001b[39;00m \u001b[38;5;28;01mNone\u001b[39;00m:\n\u001b[0;32m--> 320\u001b[0m         \u001b[43mwaiter\u001b[49m\u001b[38;5;241;43m.\u001b[39;49m\u001b[43macquire\u001b[49m\u001b[43m(\u001b[49m\u001b[43m)\u001b[49m\n\u001b[1;32m    321\u001b[0m         gotit \u001b[38;5;241m=\u001b[39m \u001b[38;5;28;01mTrue\u001b[39;00m\n\u001b[1;32m    322\u001b[0m     \u001b[38;5;28;01melse\u001b[39;00m:\n",
      "\u001b[0;31mKeyboardInterrupt\u001b[0m: "
     ]
    }
   ],
   "source": [
    "targets = [target0, target1]\n",
    "traj = moveit2.plan_sequence(targets, blends=[0.1, 0.0])\n",
    "# traj = moveit2.get_trajectory_from_sequence(result)\n",
    "\n",
    "# if traj is not None:\n",
    "#     moveit2.execute(traj)\n",
    "#     success = moveit2.wait_until_executed()\n",
    "if traj is not None:\n",
    "    node.get_logger().info(\"Move to target 0\")\n",
    "    moveit2.execute(traj)\n",
    "    success = moveit2.wait_until_executed()"
   ]
  }
 ],
 "metadata": {
  "kernelspec": {
   "display_name": "Python 3",
   "language": "python",
   "name": "python3"
  },
  "language_info": {
   "codemirror_mode": {
    "name": "ipython",
    "version": 3
   },
   "file_extension": ".py",
   "mimetype": "text/x-python",
   "name": "python",
   "nbconvert_exporter": "python",
   "pygments_lexer": "ipython3",
   "version": "3.10.12"
  }
 },
 "nbformat": 4,
 "nbformat_minor": 2
}
